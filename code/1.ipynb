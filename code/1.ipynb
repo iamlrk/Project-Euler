{
 "cells": [
  {
   "attachments": {},
   "cell_type": "markdown",
   "metadata": {},
   "source": [
    "# Problem - 1\n",
    "\n",
    "\n",
    "If we list all the natural numbers below 10 that are multiples of 3 or 5, we get 3, 5, 6 and 9. The sum of these multiples is 23.\n",
    "Find the sum of all the multiples of 3 or 5 below 1000.\n"
   ]
  },
  {
   "cell_type": "markdown",
   "metadata": {},
   "source": [
    "### Specific Solution"
   ]
  },
  {
   "cell_type": "code",
   "execution_count": 15,
   "metadata": {},
   "outputs": [
    {
     "name": "stdout",
     "output_type": "stream",
     "text": [
      "233168\n"
     ]
    }
   ],
   "source": [
    "answer = sum([_n for _n in range(1000) if _n % 3 == 0 or _n % 5 == 0])\n",
    "print(answer)"
   ]
  },
  {
   "cell_type": "markdown",
   "metadata": {},
   "source": [
    "### General Solution"
   ]
  },
  {
   "cell_type": "code",
   "execution_count": 24,
   "metadata": {},
   "outputs": [],
   "source": [
    "def get_multiples(upper_limit, *multiples, lower_limit=0):\n",
    "    \"\"\"Returns the sum of all natural numbers between lower and upper limit that are divisible by the listed multiples\n",
    "\n",
    "    Parameters\n",
    "    ----------\n",
    "    upper_limit : int\n",
    "        should be greater than 0\n",
    "    lower_limit : int, optional\n",
    "        should be greater than 0 and less than upper_limit, by default 0\n",
    "\n",
    "    Returns\n",
    "    -------\n",
    "    int\n",
    "        sum of numbers divisible by the multiples between the specified range\n",
    "    \"\"\"\n",
    "    return [_n for _n in range(lower_limit, upper_limit) if any(_n % divisor == 0 for divisor in multiples)]"
   ]
  },
  {
   "cell_type": "code",
   "execution_count": 29,
   "metadata": {},
   "outputs": [
    {
     "name": "stdout",
     "output_type": "stream",
     "text": [
      "233168\n"
     ]
    }
   ],
   "source": [
    "print(sum(get_multiples(1000, 3, 5)))"
   ]
  }
 ],
 "metadata": {
  "kernelspec": {
   "display_name": "Python 3",
   "language": "python",
   "name": "python3"
  },
  "language_info": {
   "codemirror_mode": {
    "name": "ipython",
    "version": 3
   },
   "file_extension": ".py",
   "mimetype": "text/x-python",
   "name": "python",
   "nbconvert_exporter": "python",
   "pygments_lexer": "ipython3",
   "version": "3.11.8"
  },
  "orig_nbformat": 4
 },
 "nbformat": 4,
 "nbformat_minor": 2
}
