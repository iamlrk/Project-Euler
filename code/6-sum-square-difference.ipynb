{
 "cells": [
  {
   "attachments": {},
   "cell_type": "markdown",
   "metadata": {},
   "source": [
    "# Problem - 6\n",
    "The sum of the squares of the first ten natural numbers is,\n",
    "$$1^2+2^2+\\dots+10^2=385$$\n",
    "The square of the sum of the first ten natural numbers is,\n",
    "$$(1+2+\\dots+10)^2=55^2=3025$$\n",
    "Hence the difference between the sum of the squares of the first ten natural numbers and the square of the sum is\n",
    "$$3025-385=2640$$\n",
    "\n",
    "Find the difference between the sum of the squares of the first one hundred natural numbers and the square of the sum."
   ]
  },
  {
   "cell_type": "code",
   "execution_count": 12,
   "metadata": {},
   "outputs": [],
   "source": [
    "import numpy as np"
   ]
  },
  {
   "cell_type": "code",
   "execution_count": 16,
   "metadata": {},
   "outputs": [],
   "source": [
    "def sum_n_numbers_math(n):\n",
    "    return n*(n+1)/2\n",
    "\n",
    "def sum_n_square_math(n):\n",
    "    return n*(n+1)*(2*n+1)/6\n",
    "\n",
    "def sum_n(end, start=0, increment=1):\n",
    "    return np.sum(np.arange(start,end,increment))\n",
    "\n",
    "def sum_n_square(end, start=0, increment=1):\n",
    "    return  np.sum([i**2 for i in np.arange(start,end,increment)])"
   ]
  },
  {
   "cell_type": "code",
   "execution_count": 20,
   "metadata": {},
   "outputs": [
    {
     "data": {
      "text/plain": [
       "25164150"
      ]
     },
     "execution_count": 20,
     "metadata": {},
     "output_type": "execute_result"
    }
   ],
   "source": [
    "diff_math = sum_n_numbers_math(101)**2 - sum_n_square_math(101)\n",
    "diff = sum_n(101)**2 - sum_n_square(101)\n",
    "diff"
   ]
  }
 ],
 "metadata": {
  "kernelspec": {
   "display_name": "Python 3",
   "language": "python",
   "name": "python3"
  },
  "language_info": {
   "codemirror_mode": {
    "name": "ipython",
    "version": 3
   },
   "file_extension": ".py",
   "mimetype": "text/x-python",
   "name": "python",
   "nbconvert_exporter": "python",
   "pygments_lexer": "ipython3",
   "version": "3.9.5"
  },
  "orig_nbformat": 4
 },
 "nbformat": 4,
 "nbformat_minor": 2
}
