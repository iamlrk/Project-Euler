{
 "cells": [
  {
   "cell_type": "markdown",
   "metadata": {},
   "source": [
    "# Problem 17\n",
    "<p>If the numbers $1$ to $5$ are written out in words: one, two, three, four, five, then there are $3 + 3 + 5 + 4 + 4 = 19$ letters used in total.</p>\n",
    "<p>If all the numbers from $1$ to $1000$ (one thousand) inclusive were written out in words, how many letters would be used? </p>\n",
    "<br><p class=\"note\"><b>NOTE:</b> Do not count spaces or hyphens. For example, $342$ (three hundred and forty-two) contains $23$ letters and $115$ (one hundred and fifteen) contains $20$ letters. The use of \"and\" when writing out numbers is in compliance with British usage.</p>"
   ]
  },
  {
   "cell_type": "code",
   "execution_count": 231,
   "metadata": {},
   "outputs": [],
   "source": [
    "ONES = {0: \"\", 1: \"one\", 2: \"two\", 3: \"three\", 4: \"four\", 5: \"five\", 6: \"six\", 7: \"seven\", 8: \"eight\", 9: \"nine\"}\n",
    "TENS = {10: \"ten\", 20: \"twenty\", 30: \"thirty\", 40: \"forty\", 50: \"fifty\", 60: \"sixty\", 70: \"seventy\", 80: \"eighty\", 90: \"ninety\"}\n",
    "HUNDREDS = {_i * 100: \" \".join([ONES[_i], \"hundred\"]).strip() for _i in range(1, 10)}\n",
    "THOUSANDS = {_i * 1000: \" \".join([ONES[_i], \"thousand\"]).strip() for _i in range(1, 10)}"
   ]
  },
  {
   "cell_type": "code",
   "execution_count": 4,
   "metadata": {},
   "outputs": [],
   "source": [
    "EXCEPTIONS = {11: \"eleven\", 12: \"twelve\", 13: \"thirteen\", 14: \"fourteen\", 15: \"fifteen\", 16: \"sixteen\", 17: \"seventeen\", 18: \"eighteen\", 19: \"nineteen\",}"
   ]
  },
  {
   "cell_type": "code",
   "execution_count": 171,
   "metadata": {},
   "outputs": [],
   "source": [
    "HARD_CODED = ONES | TENS | HUNDREDS | THOUSANDS | EXCEPTIONS"
   ]
  },
  {
   "cell_type": "code",
   "execution_count": 228,
   "metadata": {},
   "outputs": [],
   "source": [
    "def seperate_digits(i):\n",
    "    # calculating number of digits. and multiplying by hundred. There is -1 because there is   \n",
    "    no_of_digits = 10 ** (len(str(i)) - 1)\n",
    "    individual_digits = [int(_i) for _i in str(i)]\n",
    "    denomination = [digit * no_of_digits // (10 ** index) for index, digit in enumerate(individual_digits)]\n",
    "    return denomination\n",
    "\n",
    "def number_to_text(i):    \n",
    "    if i in HARD_CODED:\n",
    "        return HARD_CODED.get(i)\n",
    "    \n",
    "    numbers = seperate_digits(i)\n",
    "    \n",
    "    teen_name = None\n",
    "    # handling teens\n",
    "    if numbers[-2] == 10:\n",
    "        teens = numbers[-2] + numbers[-1]\n",
    "        teen_name = HARD_CODED.get(teens)\n",
    "    \n",
    "    texts_ind = [HARD_CODED.get(_n) for _n in numbers]\n",
    "    \n",
    "    # handling till tens\n",
    "    if teen_name is None:\n",
    "        tens_place = \" \".join(texts_ind[-2:])\n",
    "    else:\n",
    "        tens_place = teen_name\n",
    "    \n",
    "    # return if below tens\n",
    "    if len(numbers) <= 2:\n",
    "        return tens_place\n",
    "\n",
    "    # handling from 100\n",
    "    hundreds_place = \" and \".join([texts_ind[-3], tens_place])\n",
    "    \n",
    "    if len(numbers) == 3: \n",
    "        return hundreds_place\n",
    "    \n",
    "    # from thousand\n",
    "    # print(texts_ind[:-3])\n",
    "    rest_places = \" \".join(texts_ind[:-3])\n",
    "    \n",
    "    return rest_places + \" \" + hundreds_place"
   ]
  },
  {
   "cell_type": "code",
   "execution_count": 215,
   "metadata": {},
   "outputs": [
    {
     "name": "stdout",
     "output_type": "stream",
     "text": [
      "21124\n"
     ]
    }
   ],
   "source": [
    "texts = [number_to_text(_n) for _n in range(1,1001)]\n",
    "nospaces = \"\".join(\"\".join(texts).split(\" \"))\n",
    "print(len(nospaces))"
   ]
  },
  {
   "cell_type": "code",
   "execution_count": 230,
   "metadata": {},
   "outputs": [
    {
     "name": "stdout",
     "output_type": "stream",
     "text": [
      "[100, 10, 2]\n",
      "['one hundred', 'twenty', 'two']\n",
      "one hundred and twenty two\n"
     ]
    }
   ],
   "source": [
    "print(seperate_digits(112))\n",
    "print(number_to_text(122))"
   ]
  }
 ],
 "metadata": {
  "kernelspec": {
   "display_name": ".venv",
   "language": "python",
   "name": "python3"
  },
  "language_info": {
   "codemirror_mode": {
    "name": "ipython",
    "version": 3
   },
   "file_extension": ".py",
   "mimetype": "text/x-python",
   "name": "python",
   "nbconvert_exporter": "python",
   "pygments_lexer": "ipython3",
   "version": "3.11.8"
  }
 },
 "nbformat": 4,
 "nbformat_minor": 2
}
