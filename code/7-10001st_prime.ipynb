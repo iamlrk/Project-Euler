{
 "cells": [
  {
   "cell_type": "markdown",
   "metadata": {},
   "source": [
    "# Problem - 7\n",
    "### By listing the first six prime numbers: 2, 3, 5, 7, 11 and 13. We can see that the 6th prime is 13. What is the 10,001st prime number?"
   ]
  },
  {
   "cell_type": "code",
   "execution_count": 2,
   "metadata": {},
   "outputs": [],
   "source": [
    "import numpy as np"
   ]
  },
  {
   "cell_type": "markdown",
   "metadata": {},
   "source": [
    "#### Crude Method\n",
    "Only 101st Prime."
   ]
  },
  {
   "cell_type": "code",
   "execution_count": 12,
   "metadata": {},
   "outputs": [],
   "source": [
    "def is_prime_no_optimisation(i):\n",
    "    _j = i-1\n",
    "    while _j > 1:\n",
    "        if i % _j == 0:\n",
    "            return False\n",
    "        _j -= 1\n",
    "    return True"
   ]
  },
  {
   "cell_type": "code",
   "execution_count": 26,
   "metadata": {},
   "outputs": [
    {
     "name": "stdout",
     "output_type": "stream",
     "text": [
      "Prime i=792700 prime Numbers - \n",
      "7927\n"
     ]
    }
   ],
   "source": [
    "i = 1\n",
    "a = []\n",
    "limit = 1001\n",
    "while True:\n",
    "    i += 1\n",
    "    eval_current_number = is_prime_no_optimisation(i)\n",
    "    if eval_current_number:\n",
    "        calculated = \"[\" + \"-\" * int(len(a)*100/limit) + \".\" * (100 - int(len(a)*100/limit)) + \"]\"\n",
    "        print(f\"Calculate {len(a)} prime Numbers - {calculated}\", end=\"\\r\")\n",
    "        a.append(i)\n",
    "        if len(a) >= limit:\n",
    "            print(f\"Prime {i=}\")\n",
    "            break\n",
    "    else:\n",
    "        continue\n",
    "print(a[-1])"
   ]
  }
 ],
 "metadata": {
  "kernelspec": {
   "display_name": ".venv",
   "language": "python",
   "name": "python3"
  },
  "language_info": {
   "codemirror_mode": {
    "name": "ipython",
    "version": 3
   },
   "file_extension": ".py",
   "mimetype": "text/x-python",
   "name": "python",
   "nbconvert_exporter": "python",
   "pygments_lexer": "ipython3",
   "version": "3.11.8"
  }
 },
 "nbformat": 4,
 "nbformat_minor": 2
}
