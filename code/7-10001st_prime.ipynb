{
 "cells": [
  {
   "cell_type": "markdown",
   "metadata": {},
   "source": [
    "# Problem - 7\n",
    "### By listing the first six prime numbers: 2, 3, 5, 7, 11 and 13. We can see that the 6th prime is 13. What is the 10,001st prime number?"
   ]
  },
  {
   "cell_type": "code",
   "execution_count": 2,
   "metadata": {},
   "outputs": [],
   "source": [
    "import numpy as np"
   ]
  },
  {
   "cell_type": "markdown",
   "metadata": {},
   "source": [
    "#### Crude Method\n",
    "Only 101st Prime."
   ]
  },
  {
   "cell_type": "code",
   "execution_count": 12,
   "metadata": {},
   "outputs": [],
   "source": [
    "def is_prime_no_optimisation(i):\n",
    "    _j = i-1\n",
    "    while _j > 1:\n",
    "        if i % _j == 0:\n",
    "            return False\n",
    "        _j -= 1\n",
    "    return True"
   ]
  },
  {
   "cell_type": "code",
   "execution_count": 61,
   "metadata": {},
   "outputs": [],
   "source": [
    "def is_prime_first_optimisation(i, primes):\n",
    "    for _p in primes:\n",
    "        if i % _p == 0:\n",
    "            return False\n",
    "    return True"
   ]
  },
  {
   "cell_type": "code",
   "execution_count": 46,
   "metadata": {},
   "outputs": [],
   "source": [
    "def progress_bar(current, total):\n",
    "    return \"[\" + \"_\" * int(current*100/total) + \"-\" * (99 - int(current*100/total)) + \"]\""
   ]
  },
  {
   "cell_type": "code",
   "execution_count": 52,
   "metadata": {},
   "outputs": [
    {
     "name": "stdout",
     "output_type": "stream",
     "text": [
      "Prime i=54700 prime Numbers - [___________________________________________________________________________________________________]\n",
      "547\n"
     ]
    }
   ],
   "source": [
    "i = 1\n",
    "a = []\n",
    "limit = 101\n",
    "while True:\n",
    "    i += 1\n",
    "    eval_current_number = is_prime_no_optimisation(i)\n",
    "    # eval_current_number = is_prime_first_optimisation(i, a)\n",
    "    if eval_current_number:\n",
    "        print(f\"Calculate {len(a)} prime Numbers - {progress_bar(len(a), limit)}\", end=\"\\r\")\n",
    "        a.append(i)\n",
    "        if len(a) >= limit:\n",
    "            print(f\"Prime {i=}\")\n",
    "            break\n",
    "    else:\n",
    "        continue\n",
    "print(a[-1])"
   ]
  },
  {
   "cell_type": "markdown",
   "metadata": {},
   "source": [
    "The calculated answer from the no optimisation is 104743. Takes 3 min 22 sec to run."
   ]
  },
  {
   "cell_type": "code",
   "execution_count": 67,
   "metadata": {},
   "outputs": [
    {
     "name": "stdout",
     "output_type": "stream",
     "text": [
      "Calculate 10000 prime Numbers - [___________________________________________________________________________________________________]\n",
      "104743\n"
     ]
    }
   ],
   "source": [
    "primes = [2, 3, 5]\n",
    "limit = 10001\n",
    "i = primes[-1]\n",
    "while len(primes) < limit:\n",
    "    i += 1\n",
    "    if is_prime_first_optimisation(i, primes):\n",
    "        print(f\"Calculate {len(primes)} prime Numbers - {progress_bar(len(primes), limit)}\", end=\"\\r\")\n",
    "        primes.append(i)\n",
    "\n",
    "print()\n",
    "print(primes[-1])"
   ]
  }
 ],
 "metadata": {
  "kernelspec": {
   "display_name": ".venv",
   "language": "python",
   "name": "python3"
  },
  "language_info": {
   "codemirror_mode": {
    "name": "ipython",
    "version": 3
   },
   "file_extension": ".py",
   "mimetype": "text/x-python",
   "name": "python",
   "nbconvert_exporter": "python",
   "pygments_lexer": "ipython3",
   "version": "3.11.8"
  }
 },
 "nbformat": 4,
 "nbformat_minor": 2
}
