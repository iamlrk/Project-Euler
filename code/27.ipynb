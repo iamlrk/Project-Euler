{
 "cells": [
  {
   "cell_type": "markdown",
   "metadata": {},
   "source": [
    "# Question 27"
   ]
  },
  {
   "cell_type": "markdown",
   "metadata": {},
   "source": [
    "Euler discovered the remarkable quadratic formula:\n",
    "$n^2 + n + 41$\n",
    "It turns out that the formula will produce $40$ primes for the consecutive integer values $0 \\le n \\le 39$. However, when $n = 40, 40^2 + 40 + 41 = 40(40 + 1) + 41$ is divisible by $41$, and certainly when $n = 41, 41^2 + 41 + 41$ is clearly divisible by $41$.\n",
    "The incredible formula $n^2 - 79n + 1601$ was discovered, which produces $80$ primes for the consecutive values $0 \\le n \\le 79$. The product of the coefficients, $-79$ and $1601$, is $-126479$.\n",
    "Considering quadratics of the form:\n",
    "\n",
    "> $n^2 + an + b$, where $|a| < 1000$ and $|b| \\leq 1000$\n",
    "> \n",
    "> where $|n|$ is the modulus/absolute value of $n$\n",
    "> \n",
    "> e.g. $|11| = 11$ and $|-4| = 4$\n",
    "\n",
    "Find the product of the coefficients, $a$ and $b$, for the quadratic expression that produces the maximum number of primes for consecutive values of $n$, starting with $n = 0$."
   ]
  },
  {
   "cell_type": "code",
   "execution_count": 91,
   "metadata": {},
   "outputs": [],
   "source": [
    "import numpy as np\n",
    "import pandas as pd"
   ]
  },
  {
   "cell_type": "code",
   "execution_count": 92,
   "metadata": {},
   "outputs": [],
   "source": [
    "global MAX_A\n",
    "global MAX_B\n",
    "MAX_A = 999\n",
    "MAX_B = 1000\n"
   ]
  },
  {
   "cell_type": "code",
   "execution_count": 93,
   "metadata": {},
   "outputs": [],
   "source": [
    "def progress_bar(current, total):\n",
    "    return \"[\" + \"_\" * int(current*100/total) + \"-\" * (99 - int(current*100/total)) + \"]\""
   ]
  },
  {
   "cell_type": "code",
   "execution_count": 94,
   "metadata": {},
   "outputs": [],
   "source": [
    "def is_prime(n):\n",
    "    if n % 2 == 0 and n > 2: \n",
    "        return False\n",
    "    if n <= 0:\n",
    "        return False\n",
    "    return all(n % i for i in range(3, int(np.sqrt(n)) + 1, 2))\n",
    "\n",
    "def get_primes(end=1000, start=2):\n",
    "    _primes = [_number for _number in range(start, end) if is_prime(_number)]\n",
    "    return _primes"
   ]
  },
  {
   "cell_type": "code",
   "execution_count": 95,
   "metadata": {},
   "outputs": [],
   "source": [
    "equation = lambda n, a, b: n**2 + a * n + b"
   ]
  },
  {
   "cell_type": "code",
   "execution_count": 96,
   "metadata": {},
   "outputs": [],
   "source": [
    "a = np.arange(-999,1000)\n",
    "b = np.arange(-1000,1001)\n",
    "# a = np.arange(-9,10)\n",
    "# b = np.arange(-10,11)"
   ]
  },
  {
   "cell_type": "code",
   "execution_count": 97,
   "metadata": {},
   "outputs": [],
   "source": [
    "# Create a meshgrid\n",
    "A, B = np.meshgrid(a, b)\n",
    "\n",
    "# Flatten the arrays to get combinations\n",
    "combinations = np.column_stack((A.flatten(), B.flatten()))"
   ]
  },
  {
   "cell_type": "code",
   "execution_count": 107,
   "metadata": {},
   "outputs": [],
   "source": [
    "equation = lambda n, a, b: n**2 + a * n + b"
   ]
  },
  {
   "cell_type": "code",
   "execution_count": 103,
   "metadata": {},
   "outputs": [],
   "source": [
    "def check_pair(_a, _b):\n",
    "    equation = lambda n, a, b: n**2 + a * n + b\n",
    "    consecutive = True\n",
    "    length = 0\n",
    "    while consecutive:\n",
    "        for i in range(1, 1000):\n",
    "            if is_prime(equation(i, _a, _b)):\n",
    "                length += 1\n",
    "                continue\n",
    "            else:\n",
    "                consecutive = False\n",
    "                break\n",
    "    return length+1"
   ]
  },
  {
   "cell_type": "code",
   "execution_count": 110,
   "metadata": {},
   "outputs": [
    {
     "name": "stdout",
     "output_type": "stream",
     "text": [
      "check_pair(-79, 1601) = 80\n",
      "check_pair(1, 41) = 40\n"
     ]
    }
   ],
   "source": [
    "print(f\"{check_pair(-79, 1601) = }\")\n",
    "print(f\"{check_pair(1, 41) = }\")"
   ]
  },
  {
   "cell_type": "code",
   "execution_count": 109,
   "metadata": {},
   "outputs": [
    {
     "name": "stdout",
     "output_type": "stream",
     "text": [
      "((-61, 971), 71)\n",
      "Result = -61 X 971 = -59231\n"
     ]
    }
   ],
   "source": [
    "# values = [check_pair(__a, __b) for __a, __b in combinations]\n",
    "values = [((__a, __b), check_pair(__a, __b)) for __a, __b in combinations]\n",
    "max_value = max(values, key=lambda x: x[1])\n",
    "print(max_value)\n",
    "print(f\"Result = {max_value[0][0]} X {max_value[0][1]} = {max_value[0][0]*max_value[0][1]}\")"
   ]
  }
 ],
 "metadata": {
  "kernelspec": {
   "display_name": ".venv",
   "language": "python",
   "name": "python3"
  },
  "language_info": {
   "codemirror_mode": {
    "name": "ipython",
    "version": 3
   },
   "file_extension": ".py",
   "mimetype": "text/x-python",
   "name": "python",
   "nbconvert_exporter": "python",
   "pygments_lexer": "ipython3",
   "version": "3.11.8"
  }
 },
 "nbformat": 4,
 "nbformat_minor": 2
}
